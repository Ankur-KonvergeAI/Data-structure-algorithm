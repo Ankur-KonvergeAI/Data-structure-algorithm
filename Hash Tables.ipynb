{
 "cells": [
  {
   "cell_type": "code",
   "execution_count": 2,
   "id": "d6ea2584",
   "metadata": {},
   "outputs": [
    {
     "name": "stdout",
     "output_type": "stream",
     "text": [
      "The hash value for 4 is 4\n",
      "The hash value for 3 is 3\n",
      "The hash value for 10 is 2\n",
      "The hash value for 12 is 4\n",
      "The hash value for 8 is 0\n"
     ]
    }
   ],
   "source": [
    "# Function with parameters\n",
    "def hashing_key(key,m):\n",
    "    #modulus operation to find hash values\n",
    "    return key % m\n",
    "\n",
    "# The size of the hash table\n",
    "m=8\n",
    "print(f'The hash value for 4 is {hashing_key(4,m)}')\n",
    "print(f'The hash value for 3 is {hashing_key(3,m)}')\n",
    "print(f'The hash value for 10 is {hashing_key(10,m)}')\n",
    "print(f'The hash value for 12 is {hashing_key(12,m)}')\n",
    "print(f'The hash value for 8 is {hashing_key(8,m)}')"
   ]
  },
  {
   "cell_type": "code",
   "execution_count": null,
   "id": "1d48015d",
   "metadata": {},
   "outputs": [],
   "source": []
  }
 ],
 "metadata": {
  "kernelspec": {
   "display_name": "Python 3 (ipykernel)",
   "language": "python",
   "name": "python3"
  },
  "language_info": {
   "codemirror_mode": {
    "name": "ipython",
    "version": 3
   },
   "file_extension": ".py",
   "mimetype": "text/x-python",
   "name": "python",
   "nbconvert_exporter": "python",
   "pygments_lexer": "ipython3",
   "version": "3.10.5"
  }
 },
 "nbformat": 4,
 "nbformat_minor": 5
}
