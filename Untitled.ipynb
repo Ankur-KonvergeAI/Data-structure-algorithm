{
 "cells": [
  {
   "cell_type": "code",
   "execution_count": 6,
   "id": "df7e221b",
   "metadata": {},
   "outputs": [
    {
     "ename": "TypeError",
     "evalue": "'ends' is an invalid keyword argument for print()",
     "output_type": "error",
     "traceback": [
      "\u001b[1;31m---------------------------------------------------------------------------\u001b[0m",
      "\u001b[1;31mTypeError\u001b[0m                                 Traceback (most recent call last)",
      "Input \u001b[1;32mIn [6]\u001b[0m, in \u001b[0;36m<cell line: 21>\u001b[1;34m()\u001b[0m\n\u001b[0;32m     30\u001b[0m graph \u001b[38;5;241m=\u001b[39m Graph(edges, n)\n\u001b[0;32m     32\u001b[0m \u001b[38;5;66;03m# print adjaceny list representation od the graph\u001b[39;00m\n\u001b[1;32m---> 33\u001b[0m \u001b[43mprintGraph\u001b[49m\u001b[43m(\u001b[49m\u001b[43mgraph\u001b[49m\u001b[43m)\u001b[49m\n",
      "Input \u001b[1;32mIn [6]\u001b[0m, in \u001b[0;36mprintGraph\u001b[1;34m(graph)\u001b[0m\n\u001b[0;32m     15\u001b[0m \u001b[38;5;28;01mfor\u001b[39;00m src \u001b[38;5;129;01min\u001b[39;00m \u001b[38;5;28mrange\u001b[39m(\u001b[38;5;28mlen\u001b[39m(graph\u001b[38;5;241m.\u001b[39madjList)):\n\u001b[0;32m     16\u001b[0m     \u001b[38;5;66;03m# print current vertex and all its neighboring vertices\u001b[39;00m\n\u001b[0;32m     17\u001b[0m     \u001b[38;5;28;01mfor\u001b[39;00m dest \u001b[38;5;129;01min\u001b[39;00m graph\u001b[38;5;241m.\u001b[39madjList[src]:\n\u001b[1;32m---> 18\u001b[0m         \u001b[38;5;28;43mprint\u001b[39;49m\u001b[43m(\u001b[49m\u001b[38;5;124;43mf\u001b[39;49m\u001b[38;5;124;43m'\u001b[39;49m\u001b[38;5;124;43m(\u001b[39;49m\u001b[38;5;132;43;01m{\u001b[39;49;00m\u001b[43msrc\u001b[49m\u001b[38;5;132;43;01m}\u001b[39;49;00m\u001b[38;5;124;43m -> \u001b[39;49m\u001b[38;5;132;43;01m{\u001b[39;49;00m\u001b[43mdest\u001b[49m\u001b[38;5;132;43;01m}\u001b[39;49;00m\u001b[38;5;124;43m'\u001b[39;49m\u001b[43m,\u001b[49m\u001b[43m \u001b[49m\u001b[43mends\u001b[49m\u001b[38;5;241;43m=\u001b[39;49m\u001b[38;5;124;43m'\u001b[39;49m\u001b[38;5;124;43m'\u001b[39;49m\u001b[43m)\u001b[49m\n\u001b[0;32m     19\u001b[0m     \u001b[38;5;28mprint\u001b[39m()\n",
      "\u001b[1;31mTypeError\u001b[0m: 'ends' is an invalid keyword argument for print()"
     ]
    }
   ],
   "source": [
    "class Graph:\n",
    "    \n",
    "    # Constructor\n",
    "    def __init__(self, edges, n):\n",
    "        # allocate memory for the adjacent list\n",
    "        self.adjList = [[] for _ in range(n)]\n",
    "        \n",
    "        # add edge to the directed graph\n",
    "        for (src,dest) in edges:\n",
    "            # allocate node in adjacency list from src to dest\n",
    "            self.adjList[src].append(dest)\n",
    "            \n",
    "# Funstion  to print adjaceny list represention of a graph\n",
    "def printGraph(graph):\n",
    "    for src in range(len(graph.adjList)):\n",
    "        # print current vertex and all its neighboring vertices\n",
    "        for dest in graph.adjList[src]:\n",
    "            print(f'({src} -> {dest}', ends='')\n",
    "        print()\n",
    "        \n",
    "if __name__ == '__main__':\n",
    "    \n",
    "    # Input: Edges in a directed graph\n",
    "    edges = [(0,1), (1,2), (2,0), (2,1), (3,2), (4,5), (5,4)]\n",
    "    \n",
    "    # No. of vertices from 0 to 5\n",
    "    n = 6\n",
    "    \n",
    "    # construct a graph from given list of edges\n",
    "    graph = Graph(edges, n)\n",
    "    \n",
    "    # print adjaceny list representation od the graph\n",
    "    printGraph(graph)"
   ]
  },
  {
   "cell_type": "code",
   "execution_count": null,
   "id": "a1414be8",
   "metadata": {},
   "outputs": [],
   "source": []
  }
 ],
 "metadata": {
  "kernelspec": {
   "display_name": "Python 3 (ipykernel)",
   "language": "python",
   "name": "python3"
  },
  "language_info": {
   "codemirror_mode": {
    "name": "ipython",
    "version": 3
   },
   "file_extension": ".py",
   "mimetype": "text/x-python",
   "name": "python",
   "nbconvert_exporter": "python",
   "pygments_lexer": "ipython3",
   "version": "3.10.5"
  }
 },
 "nbformat": 4,
 "nbformat_minor": 5
}
