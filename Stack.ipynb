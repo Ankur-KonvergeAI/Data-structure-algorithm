{
 "cells": [
  {
   "cell_type": "code",
   "execution_count": 6,
   "id": "45b8dd9b",
   "metadata": {},
   "outputs": [
    {
     "name": "stdout",
     "output_type": "stream",
     "text": [
      "['Welcome', 'to', 'KonvergeAI']\n",
      "KonvergeAI\n",
      "['Welcome', 'to']\n",
      "to\n",
      "['Welcome']\n"
     ]
    }
   ],
   "source": [
    "stack = []\n",
    "stack.append(\"Welcome\")\n",
    "stack.append(\"to\")\n",
    "stack.append(\"KonvergeAI\")\n",
    "print(stack)\n",
    "print(stack.pop())\n",
    "print(stack)\n",
    "print(stack.pop())\n",
    "print(stack)"
   ]
  },
  {
   "cell_type": "code",
   "execution_count": 3,
   "id": "114ea171",
   "metadata": {},
   "outputs": [
    {
     "name": "stdout",
     "output_type": "stream",
     "text": [
      "Note: you may need to restart the kernel to use updated packages.\n"
     ]
    },
    {
     "name": "stderr",
     "output_type": "stream",
     "text": [
      "ERROR: Could not find a version that satisfies the requirement collections (from versions: none)\n",
      "ERROR: No matching distribution found for collections\n"
     ]
    }
   ],
   "source": [
    "pip install collections"
   ]
  },
  {
   "cell_type": "code",
   "execution_count": 7,
   "id": "4258a1b0",
   "metadata": {},
   "outputs": [
    {
     "name": "stdout",
     "output_type": "stream",
     "text": [
      "deque(['x'])\n",
      "deque(['x', 'y', 'z'])\n",
      "z\n"
     ]
    }
   ],
   "source": [
    "# Implementation using dequeue\n",
    "\n",
    "from collections import deque\n",
    "\n",
    "stack = deque()\n",
    "stack.append(\"x\")\n",
    "print(stack)\n",
    "stack.append(\"y\")\n",
    "stack.append(\"z\")\n",
    "print(stack)\n",
    "print(stack.pop())"
   ]
  },
  {
   "cell_type": "code",
   "execution_count": 10,
   "id": "ddcb2d11",
   "metadata": {},
   "outputs": [
    {
     "name": "stdout",
     "output_type": "stream",
     "text": [
      "<bound method Queue.qsize of <queue.LifoQueue object at 0x00000286080D3880>>\n"
     ]
    }
   ],
   "source": [
    "# Implementation using queue\n",
    "\n",
    "from queue import LifoQueue\n",
    "\n",
    "stack = LifoQueue()\n",
    "stack.put(2)\n",
    "stack.put(3)\n",
    "stack.put(4)\n",
    "print(stack.qsize)\n",
    "\n"
   ]
  },
  {
   "cell_type": "code",
   "execution_count": 11,
   "id": "a18893f8",
   "metadata": {},
   "outputs": [
    {
     "name": "stdout",
     "output_type": "stream",
     "text": [
      "3\n",
      "True\n"
     ]
    }
   ],
   "source": [
    "from queue import LifoQueue\n",
    "\n",
    "stack = LifoQueue(maxsize=3)\n",
    "stack.put(2)\n",
    "stack.put(3)\n",
    "stack.put(4)\n",
    "print(stack.qsize())\n",
    "print(stack.full())\n"
   ]
  },
  {
   "cell_type": "code",
   "execution_count": null,
   "id": "54723647",
   "metadata": {},
   "outputs": [],
   "source": []
  }
 ],
 "metadata": {
  "kernelspec": {
   "display_name": "Python 3 (ipykernel)",
   "language": "python",
   "name": "python3"
  },
  "language_info": {
   "codemirror_mode": {
    "name": "ipython",
    "version": 3
   },
   "file_extension": ".py",
   "mimetype": "text/x-python",
   "name": "python",
   "nbconvert_exporter": "python",
   "pygments_lexer": "ipython3",
   "version": "3.10.5"
  }
 },
 "nbformat": 4,
 "nbformat_minor": 5
}
