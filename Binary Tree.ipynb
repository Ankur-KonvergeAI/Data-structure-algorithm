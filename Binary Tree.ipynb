{
 "cells": [
  {
   "cell_type": "code",
   "execution_count": 3,
   "id": "3f722fe3",
   "metadata": {},
   "outputs": [
    {
     "name": "stdout",
     "output_type": "stream",
     "text": [
      "Pre order Traversal: 1 2 4 3 \n",
      "In order Traversal: 1 2 4 3 \n",
      "Post order Traversal: 4 2 3 1 "
     ]
    }
   ],
   "source": [
    "class Node:\n",
    "    def __init__(self,key):\n",
    "        self.left = None\n",
    "        self.right = None\n",
    "        self.val = key\n",
    "    def traPreOrder(self):\n",
    "        print(self.val, end=' ')\n",
    "        if self.left:\n",
    "            self.left.traPreOrder()\n",
    "        if self.right:\n",
    "            self.right.traPreOrder()\n",
    "            \n",
    "    def traInOrder(self):\n",
    "        if self.left:\n",
    "            self.left.traInOrder()\n",
    "        print(self.val, end=' ')\n",
    "        if self.right:\n",
    "            self.right.traInOrder()\n",
    "    \n",
    "    def traPostOrder(self):\n",
    "        if self.left:\n",
    "            self.left.traPostOrder()\n",
    "        if self.right:\n",
    "            self.right.traPostOrder()\n",
    "        print(self.val, end=' ')\n",
    "        \n",
    "root = Node(1)\n",
    "root.left = Node(2)\n",
    "root.right = Node(3)\n",
    "root.left.left = Node(4)\n",
    "\n",
    "print(\"Pre order Traversal: \", end=\"\")\n",
    "root.traPreOrder()\n",
    "print(\"\\nIn order Traversal: \", end=\"\")\n",
    "root.traPreOrder()\n",
    "print(\"\\nPost order Traversal: \", end=\"\")\n",
    "root.traPostOrder()\n"
   ]
  },
  {
   "cell_type": "code",
   "execution_count": null,
   "id": "7872df80",
   "metadata": {},
   "outputs": [],
   "source": []
  }
 ],
 "metadata": {
  "kernelspec": {
   "display_name": "Python 3 (ipykernel)",
   "language": "python",
   "name": "python3"
  },
  "language_info": {
   "codemirror_mode": {
    "name": "ipython",
    "version": 3
   },
   "file_extension": ".py",
   "mimetype": "text/x-python",
   "name": "python",
   "nbconvert_exporter": "python",
   "pygments_lexer": "ipython3",
   "version": "3.10.5"
  }
 },
 "nbformat": 4,
 "nbformat_minor": 5
}
